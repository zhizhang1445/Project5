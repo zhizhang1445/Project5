{
 "cells": [
  {
   "cell_type": "code",
   "execution_count": 1,
   "metadata": {},
   "outputs": [],
   "source": [
    "import numpy as np\n",
    "import scipy\n",
    "import scipy.sparse as sparse\n",
    "import matplotlib.pyplot as plt\n",
    "import matplotlib.colors as clrs\n",
    "import time\n",
    "import multiprocessing\n",
    "import os\n",
    "from copy import deepcopy\n",
    "import random\n",
    "import numpy.ma as ma"
   ]
  },
  {
   "cell_type": "code",
   "execution_count": 2,
   "metadata": {},
   "outputs": [
    {
     "name": "stdout",
     "output_type": "stream",
     "text": [
      "EVERYONE IS DEAD AT: 2.156318712096253 | N_Ptcls: 5| N_snapshots: 1\n"
     ]
    }
   ],
   "source": [
    "%run ../methodsMemoryDeposition\n",
    "%run ../main_Zhi"
   ]
  },
  {
   "cell_type": "code",
   "execution_count": 3,
   "metadata": {},
   "outputs": [
    {
     "name": "stdout",
     "output_type": "stream",
     "text": [
      "Stopped at time: 100.0| N_Ptcls: 4003| N_snapshots: 1\n"
     ]
    },
    {
     "ename": "UnboundLocalError",
     "evalue": "local variable 'list_empty_clusters' referenced before assignment",
     "output_type": "error",
     "traceback": [
      "\u001b[0;31m---------------------------------------------------------------------------\u001b[0m",
      "\u001b[0;31mUnboundLocalError\u001b[0m                         Traceback (most recent call last)",
      "\u001b[0;32m<ipython-input-3-72f16cb293e6>\u001b[0m in \u001b[0;36m<module>\u001b[0;34m\u001b[0m\n\u001b[1;32m     17\u001b[0m     }\n\u001b[1;32m     18\u001b[0m \u001b[0;34m\u001b[0m\u001b[0m\n\u001b[0;32m---> 19\u001b[0;31m \u001b[0mspace_flat\u001b[0m\u001b[0;34m,\u001b[0m \u001b[0mlist_empty_clusters\u001b[0m\u001b[0;34m,\u001b[0m \u001b[0mmax_height\u001b[0m \u001b[0;34m=\u001b[0m \u001b[0mmain\u001b[0m\u001b[0;34m(\u001b[0m\u001b[0mparams\u001b[0m\u001b[0;34m)\u001b[0m\u001b[0;34m\u001b[0m\u001b[0;34m\u001b[0m\u001b[0m\n\u001b[0m",
      "\u001b[0;32m~/Project5/main_Zhi.py\u001b[0m in \u001b[0;36mmain\u001b[0;34m(params)\u001b[0m\n\u001b[1;32m    137\u001b[0m \u001b[0;34m\u001b[0m\u001b[0m\n\u001b[1;32m    138\u001b[0m     \u001b[0;32mif\u001b[0m \u001b[0mparams\u001b[0m\u001b[0;34m[\u001b[0m\u001b[0;34m\"keep_all\"\u001b[0m\u001b[0;34m]\u001b[0m \u001b[0;32mand\u001b[0m \u001b[0mparams\u001b[0m\u001b[0;34m[\u001b[0m\u001b[0;34m\"Whole_Lattice\"\u001b[0m\u001b[0;34m]\u001b[0m\u001b[0;34m:\u001b[0m\u001b[0;34m\u001b[0m\u001b[0;34m\u001b[0m\u001b[0m\n\u001b[0;32m--> 139\u001b[0;31m         \u001b[0;32mreturn\u001b[0m \u001b[0mspace_flat\u001b[0m\u001b[0;34m,\u001b[0m \u001b[0mlist_empty_clusters\u001b[0m\u001b[0;34m,\u001b[0m \u001b[0mtimes\u001b[0m\u001b[0;34m\u001b[0m\u001b[0;34m\u001b[0m\u001b[0m\n\u001b[0m\u001b[1;32m    140\u001b[0m \u001b[0;34m\u001b[0m\u001b[0m\n\u001b[1;32m    141\u001b[0m     \u001b[0;32mif\u001b[0m \u001b[0mparams\u001b[0m\u001b[0;34m[\u001b[0m\u001b[0;34m\"keep_all\"\u001b[0m\u001b[0;34m]\u001b[0m\u001b[0;34m:\u001b[0m\u001b[0;34m\u001b[0m\u001b[0;34m\u001b[0m\u001b[0m\n",
      "\u001b[0;31mUnboundLocalError\u001b[0m: local variable 'list_empty_clusters' referenced before assignment"
     ]
    }
   ],
   "source": [
    "params = {\n",
    "    \"time_dist_type\":\"discrete\",\n",
    "    \"init_cond\":      \"single\",\n",
    "    \"height\":               200,\n",
    "    \"dom\":                  400,\n",
    "    \"ndim\":                   1,\n",
    "    \"t_max\":                100,\n",
    "    \"r_0\":                   4,\n",
    "    \"tau\":                    1,\n",
    "    \"dt_snapshot\":           100,          \n",
    "    \"n_ptcl_snapshot\":  np.infty,\n",
    "    \"keep_all\":           True, \n",
    "    \"foldername\":   \"../SimResults/\",\n",
    "    \"filename\":     \"TestSingle\",\n",
    "    \"seed\":                None,\n",
    "    \"Whole_Lattice\":       True,\n",
    "    }\n",
    "\n",
    "space_flat, list_empty_clusters, max_height = main(params)"
   ]
  },
  {
   "cell_type": "code",
   "execution_count": 10,
   "metadata": {},
   "outputs": [
    {
     "data": {
      "image/png": "[encoded data removed]",
      "text/plain": [
       "<Figure size 432x288 with 1 Axes>"
      ]
     },
     "metadata": {
      "needs_background": "light"
     },
     "output_type": "display_data"
    }
   ],
   "source": [
    "rho = params[\"r_0\"]*params[\"tau\"]\n",
    "\n",
    "plot_surface(space_flat.transpose(), max_height = None,\n",
    "            title = r\"$\\rho = $\" + f\"{rho:.2f}  \" +  r\"$t = $\" + f\"{13:.0f}\",\n",
    "            save = False,\n",
    "            show = True,)"
   ]
  },
  {
   "cell_type": "code",
   "execution_count": 16,
   "metadata": {},
   "outputs": [],
   "source": [
    "list_clusters_double_flat = calc_empty_clusters(space_flat, max_height, params, np.inf)\n"
   ]
  },
  {
   "cell_type": "code",
   "execution_count": 17,
   "metadata": {},
   "outputs": [],
   "source": [
    "M, V, S = calc_MVS_empty_clusters(list_clusters_double_flat, params)"
   ]
  },
  {
   "cell_type": "code",
   "execution_count": 13,
   "metadata": {},
   "outputs": [],
   "source": [
    "list_clusters_single_flat = unflat_empty_clusters(list_empty_clusters, params)"
   ]
  },
  {
   "cell_type": "code",
   "execution_count": 14,
   "metadata": {},
   "outputs": [
    {
     "data": {
      "image/png": "[encoded data removed]",
      "text/plain": [
       "<Figure size 432x288 with 1 Axes>"
      ]
     },
     "metadata": {
      "needs_background": "light"
     },
     "output_type": "display_data"
    }
   ],
   "source": [
    "plt.figure()\n",
    "shape_prev_flat = (np.power(params[\"dom\"], params[\"ndim\"]), params[\"height\"])\n",
    "\n",
    "colors = plt.cm.rainbow(np.linspace(0, 1, 256))\n",
    "colors[0, :] = [1, 1, 1, 1]  # Set the first color to white\n",
    "\n",
    "custom_rainbow_cmap = clrs.ListedColormap(colors)\n",
    "\n",
    "single_cluster = np.zeros(shape_prev_flat)\n",
    "for cluster in list_clusters_single_flat:\n",
    "    random_color = np.random.rand(1)\n",
    "    for coord in cluster:\n",
    "        single_cluster[coord[0], coord[1]] = random_color\n",
    "\n",
    "    img = single_cluster.reshape(shape_prev_flat).transpose()\n",
    "    plt.imshow(img, cmap=custom_rainbow_cmap, origin= \"lower\")\n",
    "plt.colormaps\n",
    "plt.show()"
   ]
  },
  {
   "cell_type": "code",
   "execution_count": null,
   "metadata": {},
   "outputs": [],
   "source": []
  }
 ],
 "metadata": {
  "kernelspec": {
   "display_name": "base",
   "language": "python",
   "name": "python3"
  },
  "language_info": {
   "codemirror_mode": {
    "name": "ipython",
    "version": 3
   },
   "file_extension": ".py",
   "mimetype": "text/x-python",
   "name": "python",
   "nbconvert_exporter": "python",
   "pygments_lexer": "ipython3",
   "version": "3.6.9"
  },
  "orig_nbformat": 4
 },
 "nbformat": 4,
 "nbformat_minor": 2
}

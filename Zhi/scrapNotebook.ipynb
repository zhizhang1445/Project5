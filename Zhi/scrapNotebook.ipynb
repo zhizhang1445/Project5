{
 "cells": [
  {
   "cell_type": "code",
   "execution_count": 164,
   "metadata": {},
   "outputs": [],
   "source": [
    "import numpy as np\n",
    "import scipy\n",
    "import scipy.sparse as sparse\n",
    "import matplotlib.pyplot as plt\n",
    "import time\n",
    "import imageio\n",
    "import os\n",
    "from copy import deepcopy\n",
    "import numpy.ma as ma"
   ]
  },
  {
   "cell_type": "code",
   "execution_count": 3,
   "metadata": {},
   "outputs": [
    {
     "name": "stdout",
     "output_type": "stream",
     "text": [
      "Stopped at time: 100.00983453735545| N_Ptcls: 36286| N_snapshots: 101\n"
     ]
    }
   ],
   "source": [
    "%run ../main.py"
   ]
  },
  {
   "cell_type": "code",
   "execution_count": 4,
   "metadata": {},
   "outputs": [],
   "source": [
    "params = {\n",
    "    \"height\":               400,\n",
    "    \"dom\":                  400,\n",
    "    \"ndim\":                   1,\n",
    "    \"t_max\":                100,\n",
    "    \"r_0\":                    1,\n",
    "    \"tau\":                    4,\n",
    "    \"dt_snapshot\":            1,          \n",
    "    \"n_ptcl_snapshot\":    np.inf,\n",
    "    \"foldername\":  \"SimResults\",\n",
    "    \"filename\":        \"result\",\n",
    "    }"
   ]
  },
  {
   "cell_type": "code",
   "execution_count": 5,
   "metadata": {},
   "outputs": [
    {
     "ename": "TypeError",
     "evalue": "float() argument must be a string or a number, not 'function'",
     "output_type": "error",
     "traceback": [
      "\u001b[0;31m---------------------------------------------------------------------------\u001b[0m",
      "\u001b[0;31mTypeError\u001b[0m                                 Traceback (most recent call last)",
      "Cell \u001b[0;32mIn[5], line 1\u001b[0m\n\u001b[0;32m----> 1\u001b[0m main(params)\n",
      "File \u001b[0;32m~/Project5/main.py:38\u001b[0m, in \u001b[0;36mmain\u001b[0;34m(params)\u001b[0m\n\u001b[1;32m     36\u001b[0m \u001b[39mfor\u001b[39;00m index_ngbh \u001b[39min\u001b[39;00m neighbors:\n\u001b[1;32m     37\u001b[0m     t_next[index_ngbh] \u001b[39m=\u001b[39m single_time(t_min, params)\n\u001b[0;32m---> 38\u001b[0m t_next[index_chosen] \u001b[39m=\u001b[39m single_time\n\u001b[1;32m     40\u001b[0m t \u001b[39m=\u001b[39m t_min\n\u001b[1;32m     42\u001b[0m \u001b[39mif\u001b[39;00m (\n\u001b[1;32m     43\u001b[0m     t \u001b[39m>\u001b[39m n_snapshot\u001b[39m*\u001b[39mparams[\u001b[39m\"\u001b[39m\u001b[39mdt_snapshot\u001b[39m\u001b[39m\"\u001b[39m]\n\u001b[1;32m     44\u001b[0m     ) \u001b[39mor\u001b[39;00m (\n\u001b[1;32m     45\u001b[0m         n_ptcls\u001b[39m%\u001b[39mparams[\u001b[39m\"\u001b[39m\u001b[39mn_ptcl_snapshot\u001b[39m\u001b[39m\"\u001b[39m] \u001b[39m==\u001b[39m \u001b[39m0\u001b[39m\n\u001b[1;32m     46\u001b[0m         ):\n",
      "\u001b[0;31mTypeError\u001b[0m: float() argument must be a string or a number, not 'function'"
     ]
    }
   ],
   "source": [
    "main(params)"
   ]
  },
  {
   "cell_type": "code",
   "execution_count": null,
   "metadata": {},
   "outputs": [],
   "source": []
  }
 ],
 "metadata": {
  "kernelspec": {
   "display_name": "base",
   "language": "python",
   "name": "python3"
  },
  "language_info": {
   "codemirror_mode": {
    "name": "ipython",
    "version": 3
   },
   "file_extension": ".py",
   "mimetype": "text/x-python",
   "name": "python",
   "nbconvert_exporter": "python",
   "pygments_lexer": "ipython3",
   "version": "3.9.7"
  },
  "orig_nbformat": 4
 },
 "nbformat": 4,
 "nbformat_minor": 2
}

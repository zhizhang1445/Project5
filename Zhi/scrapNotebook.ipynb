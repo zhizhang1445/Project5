{
 "cells": [
  {
   "cell_type": "code",
   "execution_count": 255,
   "metadata": {},
   "outputs": [],
   "source": [
    "import numpy as np\n",
    "import scipy\n",
    "import scipy.sparse as sparse\n",
    "import matplotlib.pyplot as plt\n",
    "import time\n",
    "import imageio\n",
    "import os\n",
    "from copy import deepcopy"
   ]
  },
  {
   "cell_type": "code",
   "execution_count": 271,
   "metadata": {},
   "outputs": [],
   "source": [
    "params = {\n",
    "    \"height\":               400,\n",
    "    \"x_dom\":                400,\n",
    "    \"y_dom\":                  1,\n",
    "    \"t_max\":                100,\n",
    "    \"r\":                    0.3,\n",
    "    \"dt_snapshot\":            1,          \n",
    "    \"n_ptcl_snapshot\":   np.inf,\n",
    "    \"num_threads\":            4,\n",
    "    \"all_resample\":       False,\n",
    "    \"snapshot_resample\":  False,\n",
    "}"
   ]
  },
  {
   "cell_type": "code",
   "execution_count": 272,
   "metadata": {},
   "outputs": [],
   "source": [
    "def get_nearest_neighbors(matrix, index, self = False):\n",
    "    \"\"\"\n",
    "    Returns the indexes of the nearest neighbors to a given index in a 2D matrix.\n",
    "\n",
    "    Args:\n",
    "        matrix (numpy.ndarray): The 2D matrix.\n",
    "        index (tuple): The given index (row, column).\n",
    "\n",
    "    Returns:\n",
    "        list: The indexes of the nearest neighbors.\n",
    "    \"\"\"\n",
    "    # Get the number of rows and columns in the matrix\n",
    "    rows, cols = matrix.shape\n",
    "\n",
    "    # Unpack the given index\n",
    "    row, col = index\n",
    "\n",
    "    # Define the offsets for the neighbors (up, down, left, right)\n",
    "    offsets = [(-1, 0), (1, 0), (0, -1), (0, 1)]\n",
    "\n",
    "    if self:\n",
    "        offset = offset.append((0, 0))\n",
    "\n",
    "    # List to store the valid neighbor indexes\n",
    "    neighbor_indexes = []\n",
    "\n",
    "    # Check each offset to determine the neighbor indexes\n",
    "    for offset in offsets:\n",
    "        new_row = row + offset[0]\n",
    "        new_col = col + offset[1]\n",
    "\n",
    "        # Check if the new index is within the matrix bounds\n",
    "        if 0 <= new_row < rows:\n",
    "            new_row\n",
    "        else: new_row = -1\n",
    "        if 0 <= new_col < cols:\n",
    "            new_col\n",
    "        else: new_col = -1\n",
    "            \n",
    "        neighbor_indexes.append((new_row, new_col))\n",
    "\n",
    "\n",
    "    return neighbor_indexes"
   ]
  },
  {
   "cell_type": "code",
   "execution_count": 273,
   "metadata": {},
   "outputs": [],
   "source": [
    "def plot_surface(surface, show = True, title = \"Ballistic Deposition\", \n",
    "                 colorbar = False, save = False, name = None):\n",
    "    fig = plt.figure()\n",
    "    plt.imshow(surface, cmap='binary', origin='lower')\n",
    "    plt.xlabel('x')\n",
    "    plt.ylabel('y')\n",
    "    plt.title(title)\n",
    "    if colorbar:\n",
    "        plt.colorbar()\n",
    "    if save:\n",
    "        if len(name) == 0:\n",
    "           raise ValueError(\"No Name for surface plot\")\n",
    "        else: plt.savefig(\"SimResults/\"+name)\n",
    "        plt.close()\n",
    "    # plt.show()\n",
    "    if show:\n",
    "        plt.show(fig)"
   ]
  },
  {
   "cell_type": "code",
   "execution_count": 274,
   "metadata": {},
   "outputs": [],
   "source": [
    "def update_propensities(propensities, index, params, dt = 1):\n",
    "    r = params[\"r\"]\n",
    "    propensities = np.power(r, dt)*propensities\n",
    "    x_ind, y_ind = index\n",
    "\n",
    "    propensities[x_ind, y_ind] = 1\n",
    "\n",
    "    near_neighbors = get_nearest_neighbors(propensities, (x_ind, y_ind))\n",
    "    for neighbor in near_neighbors:\n",
    "        propensities[neighbor[0], neighbor[1]] = 1\n",
    "    return propensities\n",
    "\n",
    "def get_nonzero_probabilities(propensities):\n",
    "    index_flat = list(zip(*np.nonzero(propensities))) #list of all indexes to use for choice\n",
    "\n",
    "    x_ind, y_ind = np.nonzero(propensities)\n",
    "    nonzero_propensities = propensities[x_ind, y_ind]\n",
    "    probability = nonzero_propensities/np.sum(nonzero_propensities)\n",
    "\n",
    "    return index_flat, probability\n",
    "\n",
    "def choose_from_tau(taus):\n",
    "    x_ind, y_ind = np.unravel_index(np.argmin(taus), taus.shape)\n",
    "    tau = taus[x_ind, y_ind]\n",
    "    return (x_ind, y_ind), tau"
   ]
  },
  {
   "cell_type": "code",
   "execution_count": 275,
   "metadata": {},
   "outputs": [],
   "source": [
    "def add_point(index, space, max_height):\n",
    "    x_ind, y_ind = index\n",
    "    near_neighbors = get_nearest_neighbors(max_height, (x_ind, y_ind))\n",
    "    height_surrondings = [max_height[neighbor[0], neighbor[1]] for neighbor in near_neighbors]\n",
    "\n",
    "    highest_pos = max([max(height_surrondings), max_height[x_ind, y_ind]+1])\n",
    "    space[x_ind, y_ind, highest_pos] = 1\n",
    "    max_height[x_ind, y_ind] = highest_pos\n",
    "    return space, max_height"
   ]
  },
  {
   "cell_type": "code",
   "execution_count": 276,
   "metadata": {},
   "outputs": [],
   "source": [
    "height = params[\"height\"]\n",
    "width = params[\"x_dom\"]\n",
    "length = params[\"y_dom\"]\n",
    "r = params[\"r\"]\n",
    "t = n_ptcls = n_snapshot = 0\n",
    "\n",
    "space = np.zeros((width, length, height), dtype=int) #actual simulation space\n",
    "max_height = np.zeros((width, length), dtype=int) #occupation/height at each site\n",
    "propensities = np.ones((width, length), dtype = float) #probability of droping at each coordinate\n",
    "index_flat, _ = get_nonzero_probabilities(propensities)\n",
    "taus = np.random.exponential(1/propensities)"
   ]
  },
  {
   "cell_type": "code",
   "execution_count": 277,
   "metadata": {},
   "outputs": [
    {
     "name": "stdout",
     "output_type": "stream",
     "text": [
      "Stopped at time: 100.08780142247257| N_Ptcls: 4305| N_snapshots: 101\n"
     ]
    }
   ],
   "source": [
    "while(t<params[\"t_max\"]):\n",
    "    try:\n",
    "        index_chosen, tau_min = choose_from_tau(taus)\n",
    "        t += tau_min\n",
    "        space, max_height = add_point(index_chosen, space, max_height)\n",
    "        propensities_new = update_propensities(propensities, index_chosen, params, dt = tau_min)\n",
    "\n",
    "        for tau_row, row2, row3 in zip(taus, propensities_new, propensities):\n",
    "            for i, p_new, p in zip(range(len(tau_row)), row2, row3):\n",
    "                if tau_row[i] == tau_min or params[\"all_resample\"]:\n",
    "                    tau_row[i] = np.random.exponential(1/p_new)\n",
    "                elif p_new > 0 :\n",
    "                    tau_row[i] = (p/p_new)*(tau_row[i] - tau_min)\n",
    "                else:\n",
    "                    tau_row[i] = np.inf\n",
    "\n",
    "        propensities = propensities_new\n",
    "\n",
    "        if (\n",
    "            t > n_snapshot*params[\"dt_snapshot\"]\n",
    "            ) or (\n",
    "                n_ptcls%params[\"n_ptcl_snapshot\"] == 0\n",
    "                ):\n",
    "            plot_surface(space[:, 0, :].transpose(),title=f\"Ballistic Deposition time: {t}\",  \n",
    "                         save= True, name = f\"frame_{n_snapshot}.png\")\n",
    "            n_snapshot += 1\n",
    "        n_ptcls += 1\n",
    "\n",
    "    except IndexError:\n",
    "        print(f\"Fully Occupied at time: {t}| N_Ptcls: {n_ptcls}| N_snapshots: {n_snapshot}\")\n",
    "        break\n",
    "\n",
    "    except KeyboardInterrupt:\n",
    "        print(f\"Manually Stopped at time: {t}| N_Ptcls: {n_ptcls}| N_snapshots: {n_snapshot}\")\n",
    "        break\n",
    "else:\n",
    "    print(f\"Stopped at time: {t}| N_Ptcls: {n_ptcls}| N_snapshots: {n_snapshot}\")"
   ]
  },
  {
   "cell_type": "code",
   "execution_count": 278,
   "metadata": {},
   "outputs": [],
   "source": [
    "foldername = \"SimResults\"\n",
    "frames = []\n",
    "n_updates = 0\n",
    "\n",
    "while(True):\n",
    "    try:\n",
    "        image = imageio.v2.imread(f'./{foldername}/frame_{n_updates}.png')\n",
    "        frames.append(image)\n",
    "        n_updates += 1\n",
    "    except FileNotFoundError: \n",
    "        break\n",
    "\n",
    "imageio.mimsave(f'./AniTest_r_{params[\"r\"]}.gif', \n",
    "                frames, fps = 15)"
   ]
  },
  {
   "cell_type": "code",
   "execution_count": null,
   "metadata": {},
   "outputs": [],
   "source": []
  }
 ],
 "metadata": {
  "kernelspec": {
   "display_name": "base",
   "language": "python",
   "name": "python3"
  },
  "language_info": {
   "codemirror_mode": {
    "name": "ipython",
    "version": 3
   },
   "file_extension": ".py",
   "mimetype": "text/x-python",
   "name": "python",
   "nbconvert_exporter": "python",
   "pygments_lexer": "ipython3",
   "version": "3.9.7"
  },
  "orig_nbformat": 4
 },
 "nbformat": 4,
 "nbformat_minor": 2
}

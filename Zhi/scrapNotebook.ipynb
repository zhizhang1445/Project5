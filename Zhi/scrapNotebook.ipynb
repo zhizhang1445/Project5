{
 "cells": [
  {
   "cell_type": "code",
   "execution_count": 1,
   "metadata": {},
   "outputs": [],
   "source": [
    "import numpy as np\n",
    "import scipy\n",
    "import scipy.sparse as sparse\n",
    "import matplotlib.pyplot as plt\n",
    "import time\n",
    "import multiprocessing\n",
    "import os\n",
    "from copy import deepcopy\n",
    "import numpy.ma as ma"
   ]
  },
  {
   "cell_type": "code",
   "execution_count": 2,
   "metadata": {},
   "outputs": [],
   "source": [
    "%run ../methodsMemoryDeposition"
   ]
  },
  {
   "cell_type": "code",
   "execution_count": 3,
   "metadata": {},
   "outputs": [
    {
     "name": "stdout",
     "output_type": "stream",
     "text": [
      "Stopped at time: 100.00110723787988| N_Ptcls: 36357| N_snapshots: 101\n"
     ]
    }
   ],
   "source": [
    "%run ../main.py"
   ]
  },
  {
   "cell_type": "code",
   "execution_count": 7,
   "metadata": {},
   "outputs": [],
   "source": [
    "params = {\n",
    "    \"height\":               400,\n",
    "    \"dom\":                10000,\n",
    "    \"ndim\":                   1,\n",
    "    \"t_max\":              10000,\n",
    "    \"r_0\":                    1,\n",
    "    \"tau\":                  0.5,\n",
    "    \"dt_snapshot\":            1,       \n",
    "    \"n_ptcl_snapshot\":    np.inf,\n",
    "    \"foldername\":  \"SimResults\",\n",
    "    \"filename\":        \"result\",\n",
    "}"
   ]
  },
  {
   "cell_type": "code",
   "execution_count": null,
   "metadata": {},
   "outputs": [],
   "source": [
    "mean_exit_times = []\n",
    "std_exit_times = []\n",
    "taus = []\n",
    "\n",
    "for i in np.arange(-1, 0, 0.01):\n",
    "    tau = (10**i)\n",
    "    params[\"tau\"] = tau\n",
    "    taus.append(tau)\n",
    "\n",
    "    local_exit_time = []\n",
    "    num_cores = multiprocessing.cpu_count()  # Get the number of available CPU cores\n",
    "\n",
    "    with multiprocessing.Pool(processes=num_cores) as pool:\n",
    "        results = pool.map(main, [params for _ in range(num_cores)])\n",
    "\n",
    "    for res in results:\n",
    "        _ , times = res\n",
    "        if len(times) > 1:\n",
    "            local_exit_time.append(times[-1])\n",
    "        else:\n",
    "            local_exit_time.append(0)\n",
    "\n",
    "    mean_exit_times.append(np.mean(local_exit_time)) \n",
    "    std_exit_times.append(np.std(local_exit_time))"
   ]
  },
  {
   "cell_type": "code",
   "execution_count": 9,
   "metadata": {},
   "outputs": [],
   "source": [
    "y_low = np.array(mean_exit_times) - np.array(std_exit_times)\n",
    "y_high = np.array(mean_exit_times) + np.array(std_exit_times)"
   ]
  },
  {
   "cell_type": "code",
   "execution_count": 10,
   "metadata": {},
   "outputs": [
    {
     "data": {
      "text/plain": [
       "Text(0.5, 1.0, 'Survival time for $r_0 = 1$, $L = 10^4$')"
      ]
     },
     "execution_count": 10,
     "metadata": {},
     "output_type": "execute_result"
    },
    {
     "data": {
      "image/png": "[encoded data removed]",
      "text/plain": [
       "<Figure size 432x288 with 1 Axes>"
      ]
     },
     "metadata": {
      "needs_background": "light"
     },
     "output_type": "display_data"
    }
   ],
   "source": [
    "plt.plot(taus, mean_exit_times, label='Data')\n",
    "plt.fill_between(taus, y_low, y_high, alpha=0.2, label='Error Area')\n",
    "plt.xscale('log')\n",
    "plt.yscale('log')\n",
    "plt.xlabel(r\"$\\tau$ [1/s]\")\n",
    "plt.ylabel(\"Survival Time [s]\")\n",
    "plt.title(r\"Survival time for $r_0 = 1$, $L = 10^4$\")"
   ]
  },
  {
   "cell_type": "code",
   "execution_count": null,
   "metadata": {},
   "outputs": [],
   "source": []
  }
 ],
 "metadata": {
  "kernelspec": {
   "display_name": "base",
   "language": "python",
   "name": "python3"
  },
  "language_info": {
   "codemirror_mode": {
    "name": "ipython",
    "version": 3
   },
   "file_extension": ".py",
   "mimetype": "text/x-python",
   "name": "python",
   "nbconvert_exporter": "python",
   "pygments_lexer": "ipython3",
   "version": "3.6.9"
  },
  "orig_nbformat": 4
 },
 "nbformat": 4,
 "nbformat_minor": 2
}

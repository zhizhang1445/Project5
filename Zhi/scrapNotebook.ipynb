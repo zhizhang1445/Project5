{
 "cells": [
  {
   "cell_type": "code",
   "execution_count": 4,
   "metadata": {},
   "outputs": [],
   "source": [
    "import numpy as np\n",
    "import scipy\n",
    "import scipy.sparse as sparse\n",
    "import matplotlib.pyplot as plt\n",
    "import time\n",
    "import imageio"
   ]
  },
  {
   "cell_type": "code",
   "execution_count": 5,
   "metadata": {},
   "outputs": [],
   "source": [
    "params = {\n",
    "    \"height\":           400,\n",
    "    \"x_dom\":            200,\n",
    "    \"y_dom\":              1,\n",
    "    \"num_particles\":   2000,\n",
    "    \"t_max\":            100,\n",
    "    \"r\":               0.99,\n",
    "    \"dt_update_time\":     1,          \n",
    "    \"n_ptcl_update\": np.inf,\n",
    "    \"num_threads\":        4,          \n",
    "}"
   ]
  },
  {
   "cell_type": "code",
   "execution_count": 6,
   "metadata": {},
   "outputs": [],
   "source": [
    "def get_nearest_neighbors(matrix, index, self = False):\n",
    "    \"\"\"\n",
    "    Returns the indexes of the nearest neighbors to a given index in a 2D matrix.\n",
    "\n",
    "    Args:\n",
    "        matrix (numpy.ndarray): The 2D matrix.\n",
    "        index (tuple): The given index (row, column).\n",
    "\n",
    "    Returns:\n",
    "        list: The indexes of the nearest neighbors.\n",
    "    \"\"\"\n",
    "    # Get the number of rows and columns in the matrix\n",
    "    rows, cols = matrix.shape\n",
    "\n",
    "    # Unpack the given index\n",
    "    row, col = index\n",
    "\n",
    "    # Define the offsets for the neighbors (up, down, left, right)\n",
    "    offsets = [(-1, 0), (1, 0), (0, -1), (0, 1)]\n",
    "\n",
    "    if self:\n",
    "        offset = offset.append((0, 0))\n",
    "\n",
    "    # List to store the valid neighbor indexes\n",
    "    neighbor_indexes = []\n",
    "\n",
    "    # Check each offset to determine the neighbor indexes\n",
    "    for offset in offsets:\n",
    "        new_row = row + offset[0]\n",
    "        new_col = col + offset[1]\n",
    "\n",
    "        # Check if the new index is within the matrix bounds\n",
    "        if 0 <= new_row < rows:\n",
    "            new_row\n",
    "        else: new_row = -1\n",
    "        if 0 <= new_col < cols:\n",
    "            new_col\n",
    "        else: new_col = -1\n",
    "            \n",
    "        neighbor_indexes.append((new_row, new_col))\n",
    "\n",
    "\n",
    "    return neighbor_indexes"
   ]
  },
  {
   "cell_type": "code",
   "execution_count": 7,
   "metadata": {},
   "outputs": [],
   "source": [
    "def plot_surface(surface, show = True, title = \"Ballistic Deposition\", \n",
    "                 colorbar = False, save = False, name = None):\n",
    "    fig = plt.figure()\n",
    "    plt.imshow(surface, cmap='binary', origin='lower')\n",
    "    plt.xlabel('x')\n",
    "    plt.ylabel('y')\n",
    "    plt.title(title)\n",
    "    if colorbar:\n",
    "        plt.colorbar()\n",
    "    if save:\n",
    "        if len(name) == 0:\n",
    "           raise ValueError(\"No Name for surface plot\")\n",
    "        else: plt.savefig(\"folder4video/\"+name)\n",
    "        plt.close()\n",
    "    # plt.show()\n",
    "    if show:\n",
    "        plt.show(fig)"
   ]
  },
  {
   "cell_type": "code",
   "execution_count": 8,
   "metadata": {},
   "outputs": [],
   "source": [
    "def update_propensities(propensities, index, params, dt = 1):\n",
    "    r = params[\"r\"]\n",
    "    propensities = np.power(r, 1)*propensities\n",
    "    x_ind, y_ind = index\n",
    "\n",
    "    propensities[x_ind, y_ind] = 1\n",
    "\n",
    "    near_neighbors = get_nearest_neighbors(propensities, (x_ind, y_ind))\n",
    "    for neighbor in near_neighbors:\n",
    "        propensities[neighbor[0], neighbor[1]] = 1\n",
    "    return propensities\n",
    "\n",
    "def get_nonzero_propensities(propensities):\n",
    "    index_flat = list(zip(*np.nonzero(propensities))) #list of all indexes to use for choice\n",
    "\n",
    "    x_ind, y_ind = np.nonzero(propensities)\n",
    "    nonzero_propensities = propensities[x_ind, y_ind]\n",
    "    probability = nonzero_propensities/np.sum(nonzero_propensities)\n",
    "\n",
    "    return index_flat, probability"
   ]
  },
  {
   "cell_type": "code",
   "execution_count": 9,
   "metadata": {},
   "outputs": [],
   "source": [
    "def add_point(index, space, max_height):\n",
    "    x_ind, y_ind = index\n",
    "    near_neighbors = get_nearest_neighbors(propensities, (x_ind, y_ind))\n",
    "    height_surrondings = [max_height[neighbor[0], neighbor[1]] for neighbor in near_neighbors]\n",
    "\n",
    "    highest_pos = max([max(height_surrondings), max_height[x_ind, y_ind]+1])\n",
    "    space[x_ind, y_ind, highest_pos] = 1\n",
    "    max_height[x_ind, y_ind] = highest_pos\n",
    "    return space, max_height"
   ]
  },
  {
   "cell_type": "code",
   "execution_count": 10,
   "metadata": {},
   "outputs": [],
   "source": [
    "height = params[\"height\"]\n",
    "width = params[\"x_dom\"]\n",
    "length = params[\"y_dom\"]\n",
    "num_particles = params[\"num_particles\"]\n",
    "r = params[\"r\"]\n",
    "t = n_ptcls = n_updates = 0\n",
    "\"\"\"\"\"\n",
    "Returns:\n",
    "    np.array: A 2D array representing the surface/grid with particles deposited.\n",
    "\"\"\"\n",
    "\n",
    "space = np.zeros((width, length, height), dtype=int) #actual simulation space\n",
    "max_height = np.zeros((width, length), dtype=int) #occupation/height at each site\n",
    "propensities = np.ones((width, length), dtype = float) #probability of droping at each coordinate\n",
    "taus = np.random.exponential(1/propensities)"
   ]
  },
  {
   "cell_type": "code",
   "execution_count": 7,
   "metadata": {},
   "outputs": [
    {
     "name": "stdout",
     "output_type": "stream",
     "text": [
      "Stopped at time: 100.00029411559983| N_Ptcls: 14700| N_updates: 101\n"
     ]
    }
   ],
   "source": [
    "while(t<params[\"t_max\"]):\n",
    "    try:\n",
    "        tau\n",
    "\n",
    "        \n",
    "        index_flat, probability = get_nonzero_propensities(propensities)\n",
    "        choice = np.random.choice(len(index_flat), p = probability)\n",
    "\n",
    "        space, max_height = add_point(index_flat[choice], space, max_height)\n",
    "        \n",
    "        propensities = update_propensities(propensities, index_flat[choice], params)\n",
    "\n",
    "        if (\n",
    "            t > n_updates*params[\"dt_update_time\"]\n",
    "            ) or (\n",
    "                num_particles%params[\"n_ptcl_update\"] == 0\n",
    "                ):\n",
    "            \n",
    "            plot_surface(space[:, 0, :].transpose(),title=f\"Ballistic Deposition time: {t}\",  save= True, name = f\"frame_{n_updates}.png\")\n",
    "            n_updates += 1\n",
    "        n_ptcls += 1\n",
    "\n",
    "    except KeyboardInterrupt:\n",
    "        print(f\"Stopped at time: {t}| N_Ptcls: {n_ptcls}| N_updates: {n_updates}\")\n",
    "        break\n",
    "else:\n",
    "    print(f\"Stopped at time: {t}| N_Ptcls: {n_ptcls}| N_updates: {n_updates}\")"
   ]
  },
  {
   "cell_type": "code",
   "execution_count": 8,
   "metadata": {},
   "outputs": [],
   "source": [
    "foldername = \"folder4video\"\n",
    "frames = []\n",
    "n_updates = 0\n",
    "\n",
    "while(True):\n",
    "    try:\n",
    "        image = imageio.v2.imread(f'./{foldername}/frame_{n_updates}.png')\n",
    "        frames.append(image)\n",
    "        n_updates += 1\n",
    "    except FileNotFoundError: \n",
    "        break\n",
    "\n",
    "imageio.mimsave(f'./Animation_r_{params[\"r\"]}.gif', \n",
    "                frames, fps = 30)"
   ]
  },
  {
   "cell_type": "code",
   "execution_count": null,
   "metadata": {},
   "outputs": [],
   "source": []
  }
 ],
 "metadata": {
  "kernelspec": {
   "display_name": "base",
   "language": "python",
   "name": "python3"
  },
  "language_info": {
   "codemirror_mode": {
    "name": "ipython",
    "version": 3
   },
   "file_extension": ".py",
   "mimetype": "text/x-python",
   "name": "python",
   "nbconvert_exporter": "python",
   "pygments_lexer": "ipython3",
   "version": "3.9.7"
  },
  "orig_nbformat": 4
 },
 "nbformat": 4,
 "nbformat_minor": 2
}
